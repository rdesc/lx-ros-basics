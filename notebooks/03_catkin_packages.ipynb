{
 "cells": [
  {
   "cell_type": "markdown",
   "metadata": {},
   "source": [
    "<span style=\"float:right\">\n",
    "<strong>Disclaimer:</strong>\n",
    "This tutorial is an adaptation of the <a href=\"https://wiki.ros.org/ROS/Tutorials/\">Official ROS tutorial</a> originally released under <a href=\"http://creativecommons.org/licenses/by/3.0/\">Creative Commons Attribution 3.0</a> license.\n",
    "<span>"
   ]
  },
  {
   "cell_type": "markdown",
   "metadata": {},
   "source": [
    "# Catkin Packages"
   ]
  },
  {
   "cell_type": "markdown",
   "metadata": {},
   "source": [
    "## What makes up a catkin Package?\n",
    "\n",
    "For a directory to be considered a catkin package it must meet a few requirements:\n",
    "\n",
    "- It must contain a catkin-compliant `package.xml` file that provides meta information about the package;\n",
    "\n",
    "- It must contain a `CMakeLists.txt` file which uses catkin;\n",
    "\n",
    "- It must contain exactly one package. No nested packages nor multiple packages sharing the same directory are allowed;\n",
    "\n",
    "\n",
    "The simplest possible package might have a structure which looks like this:\n",
    "\n",
    "```\n",
    "my_package/\n",
    "  package.xml\n",
    "  CMakeLists.txt\n",
    "```\n",
    "\n",
    "\n",
    "## Create a new Catkin package\n",
    "\n",
    "Using the **EXPLORER** tab on the left-hand side of the screen, create a new directory called `my_package` inside the source space of the workspace `./workspace/src/` we created earlier.\n",
    "\n",
    "\n",
    "### Create the file `package.xml`\n",
    "\n",
    "Create a new file called `package.xml` inside `./workspace/src/my_package/` and place the following content inside it:"
   ]
  },
  {
   "cell_type": "code",
   "execution_count": null,
   "metadata": {},
   "outputs": [],
   "source": [
    "<package>\n",
    "  <name>my_package</name>\n",
    "  <version>0.0.1</version>\n",
    "  <description>\n",
    "  My first Catkin package in Duckietown.\n",
    "  </description>\n",
    "  <maintainer email=\"YOUR_EMAIL@EXAMPLE.COM\">YOUR_FULL_NAME</maintainer>\n",
    "  <license>None</license>\n",
    "\n",
    "  <buildtool_depend>catkin</buildtool_depend>\n",
    "</package>"
   ]
  },
  {
   "cell_type": "markdown",
   "metadata": {},
   "source": [
    "Replace `YOUR_FULL_NAME` with your first and last name and `YOUR_EMAIL@EXAMPLE.COM` with your email address."
   ]
  },
  {
   "cell_type": "markdown",
   "metadata": {},
   "source": [
    "### Create the file `CMakeLists.txt`\n",
    "\n",
    "Similarly to what we did above, we now create the file `CMakeLists.txt` inside `./workspace/src/my_package/` and place the following content inside it:"
   ]
  },
  {
   "cell_type": "code",
   "execution_count": null,
   "metadata": {},
   "outputs": [],
   "source": [
    "cmake_minimum_required(VERSION 2.8.3)\n",
    "project(my_package)\n",
    "\n",
    "find_package(catkin REQUIRED COMPONENTS\n",
    "  rospy\n",
    ")\n",
    "\n",
    "catkin_package()"
   ]
  },
  {
   "cell_type": "markdown",
   "metadata": {},
   "source": [
    "## Re-build Workspace\n",
    "\n",
    "We now proceed with compiling (or building) our workspace.\n",
    "We can do so by opening a new terminal (`Menu -> Terminal -> New Terminal`) and then running the following commands,\n",
    "\n",
    "```{bash}\n",
    "    cd workspace/\n",
    "    catkin build\n",
    "```\n",
    "\n",
    "The build process should complete within a few seconds and the summary should report that `2` packages were built. Remember, the `catkin_tools_prebuild` package is present by default in every workspace.\n",
    "\n",
    "\n",
    "### Activate workspace\n",
    "\n",
    "Once the workspace is built, we then want to activate the built artifacts. We can do so by running the following command,\n",
    "\n",
    "```{bash}\n",
    "    source ./devel/setup.bash\n",
    "```\n",
    "\n",
    "If everything goes well, this command should return without any errors or output.\n",
    "We can verify that the new package `my_package` was indeed recognized by `catkin` by looking inside the environment variable `ROS_PACKAGE_PATH`, which contains the colon-separated list of catkin packages currently active.\n",
    "We can do so by running the command,\n",
    "\n",
    "```{bash}\n",
    "    echo $ROS_PACKAGE_PATH\n",
    "```\n",
    "\n",
    "The following output should appear,\n",
    "\n",
    "    /code/lx-ros-basics/workspace/src/my_package:/code/catkin_ws/src/dt-ros-commons/packages/duckietown:/code/  ...  /dt-ros-commons/packages/ros_http_api:/opt/ros/noetic/share\n",
    "\n",
    "We note that our package `my_package` is indeed the first in the list."
   ]
  },
  {
   "cell_type": "markdown",
   "metadata": {},
   "source": [
    "<span style=\"float:right\">\n",
    "<strong>Disclaimer:</strong>\n",
    "This tutorial is an adaptation of the <a href=\"https://wiki.ros.org/ROS/Tutorials/\">Official ROS tutorial</a> originally released under <a href=\"http://creativecommons.org/licenses/by/3.0/\">Creative Commons Attribution 3.0</a> license.\n",
    "<span>"
   ]
  }
 ],
 "metadata": {
  "kernelspec": {
   "display_name": "Python 3.8.10 64-bit",
   "language": "python",
   "name": "python3"
  },
  "language_info": {
   "codemirror_mode": {
    "name": "ipython",
    "version": 3
   },
   "file_extension": ".py",
   "mimetype": "text/x-python",
   "name": "python",
   "nbconvert_exporter": "python",
   "pygments_lexer": "ipython3",
   "version": "3.8.10"
  },
  "orig_nbformat": 4,
  "vscode": {
   "interpreter": {
    "hash": "916dbcbb3f70747c44a77c7bcd40155683ae19c65e1c03b4aa3499c5328201f1"
   }
  }
 },
 "nbformat": 4,
 "nbformat_minor": 2
}
